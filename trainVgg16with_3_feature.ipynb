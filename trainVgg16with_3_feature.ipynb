{
  "cells": [
    {
      "cell_type": "markdown",
      "metadata": {
        "id": "view-in-github",
        "colab_type": "text"
      },
      "source": [
        "<a href=\"https://colab.research.google.com/github/pacesatuinineh/Gabor-Features/blob/main/trainVgg16with_3_feature.ipynb\" target=\"_parent\"><img src=\"https://colab.research.google.com/assets/colab-badge.svg\" alt=\"Open In Colab\"/></a>"
      ]
    },
    {
      "cell_type": "code",
      "source": [
        "#!pip install efficientnet==0.0.3"
      ],
      "metadata": {
        "id": "BYUAJQ01aozs"
      },
      "execution_count": 1,
      "outputs": []
    },
    {
      "cell_type": "code",
      "execution_count": 2,
      "metadata": {
        "id": "O1uQFkh1OR73"
      },
      "outputs": [],
      "source": [
        "import cv2\n",
        "import numpy as np\n",
        "import os\n",
        "import pandas as pd\n",
        "from skimage.feature import hog\n",
        "from skimage.color import rgb2gray\n",
        "from sklearn.preprocessing import LabelEncoder\n",
        "from sklearn.metrics import accuracy_score, confusion_matrix, classification_report\n",
        "import matplotlib.pyplot as plt\n",
        "import seaborn as sns\n",
        "import tensorflow as tf\n",
        "from tensorflow.keras.models import Model\n",
        "from tensorflow.keras.layers import Dense, Dropout, GlobalAveragePooling2D, BatchNormalization, Input\n",
        "from tensorflow.keras.preprocessing.image import ImageDataGenerator\n",
        "#from tensorflow.keras.applications import ResNet50\n",
        "from tensorflow.keras.utils import to_categorical\n",
        "from sklearn.decomposition import PCA\n",
        "from sklearn.utils.class_weight import compute_class_weight\n",
        "#from efficientnet.tfkeras import EfficientNetB0\n",
        "from tensorflow.keras.applications import VGG16\n",
        "import matplotlib.pyplot as plt\n",
        "import numpy as np"
      ]
    },
    {
      "cell_type": "code",
      "execution_count": 3,
      "metadata": {
        "id": "kdVXkRGgR6Nt",
        "colab": {
          "base_uri": "https://localhost:8080/"
        },
        "outputId": "73482c62-a9d1-4395-8d50-7601baac8105"
      },
      "outputs": [
        {
          "output_type": "stream",
          "name": "stdout",
          "text": [
            "Mounted at /content/drive\n"
          ]
        }
      ],
      "source": [
        "from google.colab import drive\n",
        "drive.mount('/content/drive')\n",
        "\n"
      ]
    },
    {
      "cell_type": "code",
      "source": [
        "# Paths\n",
        "data_path = \"/content/drive/MyDrive/modifdataset\"  # Adjust the path to where 'papua-1' and 'papua-2' are located\n",
        "\n"
      ],
      "metadata": {
        "id": "4ElfjpaY6q6v"
      },
      "execution_count": 4,
      "outputs": []
    },
    {
      "cell_type": "code",
      "execution_count": 5,
      "metadata": {
        "id": "TzpkhnbsR_Q7"
      },
      "outputs": [],
      "source": [
        "# Constants\n",
        "IMAGE_SIZE = (224, 224)\n",
        "BATCH_SIZE = 32\n",
        "EPOCHS = 100"
      ]
    },
    {
      "cell_type": "code",
      "execution_count": 6,
      "metadata": {
        "id": "69Ch8XRnSFsg"
      },
      "outputs": [],
      "source": [
        "# Preprocessing Function\n",
        "def preprocess_image(image):\n",
        "    # Resize image\n",
        "    image = cv2.resize(image, IMAGE_SIZE)\n",
        "    # Histogram equalization\n",
        "    image = cv2.cvtColor(image, cv2.COLOR_BGR2GRAY)\n",
        "    image = cv2.equalizeHist(image)\n",
        "    # Apply noise reduction\n",
        "    image = cv2.fastNlMeansDenoising(image, h=10)\n",
        "    # Convert back to RGB\n",
        "    return cv2.cvtColor(image, cv2.COLOR_GRAY2RGB)"
      ]
    },
    {
      "cell_type": "code",
      "execution_count": 7,
      "metadata": {
        "id": "A13Ba3tKSKGT"
      },
      "outputs": [],
      "source": [
        "# Function to apply Haar wavelet transformation\n",
        "def apply_haar_wavelet(image):\n",
        "    I = image.astype(float)\n",
        "    m, n = I.shape[:2]\n",
        "    if m % 2 != 0:\n",
        "        m -= 1\n",
        "    if n % 2 != 0:\n",
        "        n -= 1\n",
        "    I = I[:m, :n]\n",
        "\n",
        "    LL = np.zeros((m // 2, n // 2))\n",
        "    for i in range(0, m, 2):\n",
        "        for j in range(0, n, 2):\n",
        "            Ixy = I[i:i + 2, j:j + 2]\n",
        "            LL[i // 2, j // 2] = np.mean(Ixy)\n",
        "    return LL"
      ]
    },
    {
      "cell_type": "code",
      "execution_count": 8,
      "metadata": {
        "id": "XpeyGgyySM3z"
      },
      "outputs": [],
      "source": [
        "# Function to extract HOG features\n",
        "def extract_hog_features(image):\n",
        "    if len(image.shape) == 3:\n",
        "        image = rgb2gray(image)\n",
        "    features, _ = hog(image, pixels_per_cell=(8, 8), cells_per_block=(2, 2), visualize=True)\n",
        "    return features"
      ]
    },
    {
      "cell_type": "code",
      "source": [
        "def extract_gabor_features(image):\n",
        "    # Konversi gambar ke grayscale\n",
        "    gray = cv2.cvtColor(image, cv2.COLOR_BGR2GRAY)\n",
        "\n",
        "    # Definisikan filter Gabor\n",
        "    gabor_filters = []\n",
        "    ksize = 31  # Ukuran kernel\n",
        "    for theta in np.arange(0, np.pi, np.pi / 16):  # Orientasi\n",
        "        kern = cv2.getGaborKernel((ksize, ksize), 4.0, theta, 10.0, 0.5, 0, ktype=cv2.CV_32F)\n",
        "        kern /= 1.5*kern.sum()\n",
        "        gabor_filters.append(kern)\n",
        "\n",
        "    # Terapkan filter Gabor dan gabungkan fitur\n",
        "    gabor_features = []\n",
        "    for kern in gabor_filters:\n",
        "        fimg = cv2.filter2D(gray, cv2.CV_8UC3, kern)\n",
        "        gabor_features.append(fimg)\n",
        "\n",
        "    # Gabungkan fitur Gabor menjadi satu vektor\n",
        "    gabor_features = np.concatenate([f.flatten() for f in gabor_features])\n",
        "\n",
        "    return gabor_features"
      ],
      "metadata": {
        "id": "K1HdSx-1peMn"
      },
      "execution_count": 9,
      "outputs": []
    },
    {
      "cell_type": "code",
      "execution_count": 10,
      "metadata": {
        "id": "rBFoJaueSSPd"
      },
      "outputs": [],
      "source": [
        "def load_data(path):\n",
        "    data = []\n",
        "    labels = []\n",
        "    for folder in os.listdir(path):\n",
        "        folder_path = os.path.join(path, folder)\n",
        "        if os.path.isdir(folder_path):\n",
        "            for file in os.listdir(folder_path):\n",
        "                file_path = os.path.join(folder_path, file)\n",
        "                image = cv2.imread(file_path)\n",
        "                if image is not None:\n",
        "                    # Preprocess image\n",
        "                    image = preprocess_image(image)\n",
        "                    # Apply Haar wavelet\n",
        "                    haar_image = apply_haar_wavelet(image)\n",
        "                    # Resize the image to 224x224 for ResNet50\n",
        "                    haar_image = cv2.resize(haar_image, (224, 224))\n",
        "                    # Extract HOG features\n",
        "                    #hog_features = extract_hog_features(image)\n",
        "                    # Extract Gabor features\n",
        "                    gabor_features = extract_gabor_features(image)\n",
        "                    combined_features = np.concatenate([haar_image.flatten(), gabor_features])\n",
        "                    #data.append(haar_image)  # Append the processed image\n",
        "                    data.append(combined_features)  # Append the processed image\n",
        "\n",
        "                    labels.append(folder)\n",
        "\n",
        "    return np.array(data), np.array(labels)"
      ]
    },
    {
      "cell_type": "code",
      "source": [
        "\n",
        "def load_data_per_class(path):\n",
        "    data_per_class = {}\n",
        "    for folder in os.listdir(path):\n",
        "        folder_path = os.path.join(path, folder)\n",
        "        if os.path.isdir(folder_path):\n",
        "            data_per_class[folder] = []\n",
        "            for i, file in enumerate(os.listdir(folder_path)):\n",
        "                if i >= 5:  # Ambil hanya 5 gambar pertama\n",
        "                    break\n",
        "                file_path = os.path.join(folder_path, file)\n",
        "                image = cv2.imread(file_path)\n",
        "                if image is not None:\n",
        "                    image = preprocess_image(image)  # Gunakan fungsi preprocess_image Anda\n",
        "                    # Apply Haar wavelet\n",
        "                    haar_image = apply_haar_wavelet(image)\n",
        "                    # Resize the image to 224x224 for ResNet50\n",
        "                    haar_image = cv2.resize(haar_image, (224, 224))\n",
        "                    # Extract Gabor features\n",
        "                    gabor_features = extract_gabor_features(image)\n",
        "                    # Gabungkan fitur Haar dan Gabor\n",
        "                    combined_features = np.concatenate([haar_image.flatten(), gabor_features])\n",
        "                    #data_per_class[folder].append(combined_features)  # Simpan fitur gabungan\n",
        "                    data.append(combined_features)  # Append the processed image\n",
        "\n",
        "                    labels.append(folder)\n",
        "\n",
        "    return data_per_class"
      ],
      "metadata": {
        "id": "o2VSNKJ2-Hw1"
      },
      "execution_count": 11,
      "outputs": []
    },
    {
      "cell_type": "code",
      "source": [],
      "metadata": {
        "id": "LeIgxb8g-MVb"
      },
      "execution_count": 11,
      "outputs": []
    },
    {
      "cell_type": "code",
      "execution_count": 12,
      "metadata": {
        "id": "KAP0lMIcSU1u"
      },
      "outputs": [],
      "source": [
        "# Load dataset\n",
        "data, labels = load_data(data_path)"
      ]
    },
    {
      "cell_type": "code",
      "source": [
        "#data_per_class = load_data_per_class(data_path)\n"
      ],
      "metadata": {
        "id": "agKK3jlu-M3D"
      },
      "execution_count": 13,
      "outputs": []
    },
    {
      "cell_type": "code",
      "source": [
        "#num_classes = len(data_per_class)\n",
        "#fig, axes = plt.subplots(num_classes, 5, figsize=(10, 2 * num_classes))  # Sesuaikan figsize jika perlu\n",
        "\n",
        "#for i, (class_name, images) in enumerate(data_per_class.items()):\n",
        "#    for j, image in enumerate(images):\n",
        "#        axes[i, j].imshow(image.astype(np.uint8), cmap='gray')  # Tampilkan dalam skala abu-abu\n",
        "#        axes[i, j].axis('off')\n",
        "#        if j == 0:  # Tampilkan nama kelas hanya pada gambar pertama di setiap baris\n",
        "#            axes[i, j].set_title(class_name)\n",
        "\n",
        "#plt.tight_layout()  # Untuk mengatur tata letak agar tidak tumpang tindih\n",
        "#plt.show()"
      ],
      "metadata": {
        "id": "xdUyEy3i8q2Z"
      },
      "execution_count": 14,
      "outputs": []
    },
    {
      "cell_type": "code",
      "source": [
        "#num_images_to_display = 5  # Jumlah gambar yang ingin ditampilkan\n",
        "#sample_images = data[:num_images_to_display]\n",
        "#sample_labels = labels[:num_images_to_display]"
      ],
      "metadata": {
        "id": "HX3lp1Hs5Hq1"
      },
      "execution_count": 15,
      "outputs": []
    },
    {
      "cell_type": "code",
      "source": [
        "#fig, axes = plt.subplots(1, num_images_to_display, figsize=(15, 5))  # Sesuaikan figsize jika perlu\n",
        "#for i, (image, label) in enumerate(zip(sample_images, sample_labels)):\n",
        "    #axes[i].imshow(image.astype(np.uint8), cmap='gray')\n",
        "    #axes[i].axis('off')\n",
        "    #axes[i].set_title(label)  # Menampilkan label sebagai judul di bawah gambar\n",
        "#plt.show()"
      ],
      "metadata": {
        "id": "Ot6yezTv5JCU"
      },
      "execution_count": 16,
      "outputs": []
    },
    {
      "cell_type": "code",
      "execution_count": 17,
      "metadata": {
        "id": "T1Uftjw3SVSf"
      },
      "outputs": [],
      "source": [
        "# Encode labels\n",
        "encoder = LabelEncoder()\n",
        "labels_encoded = encoder.fit_transform(labels)\n"
      ]
    },
    {
      "cell_type": "code",
      "execution_count": 18,
      "metadata": {
        "id": "x47i3r-qSXC5"
      },
      "outputs": [],
      "source": [
        "# Split into training and testing\n",
        "from sklearn.model_selection import train_test_split\n",
        "train_data, test_data, train_labels, test_labels = train_test_split(data, labels_encoded, test_size=0.2, random_state=42)\n"
      ]
    },
    {
      "cell_type": "code",
      "execution_count": 19,
      "metadata": {
        "id": "KktpjT5iSZrZ"
      },
      "outputs": [],
      "source": [
        "# Class weights\n",
        "class_weights = compute_class_weight('balanced', classes=np.unique(train_labels), y=train_labels)\n",
        "class_weight_dict = dict(enumerate(class_weights))\n"
      ]
    },
    {
      "cell_type": "code",
      "execution_count": 20,
      "metadata": {
        "id": "CPJhEjBfSb0v",
        "colab": {
          "base_uri": "https://localhost:8080/"
        },
        "outputId": "9276ff36-7fe5-4c03-ae56-9ee51dab3a73"
      },
      "outputs": [
        {
          "output_type": "stream",
          "name": "stdout",
          "text": [
            "Downloading data from https://storage.googleapis.com/tensorflow/keras-applications/vgg16/vgg16_weights_tf_dim_ordering_tf_kernels_notop.h5\n",
            "\u001b[1m58889256/58889256\u001b[0m \u001b[32m━━━━━━━━━━━━━━━━━━━━\u001b[0m\u001b[37m\u001b[0m \u001b[1m2s\u001b[0m 0us/step\n"
          ]
        }
      ],
      "source": [
        "# Define CNN model with pretrained ResNet50\n",
        "def build_model():\n",
        "    input_tensor = Input(shape=(224, 224, 3))\n",
        "    #base_model = ResNet50(weights='imagenet', include_top=False, input_tensor=input_tensor)\n",
        "    #base_model = EfficientNetB0(weights='imagenet', include_top=False, input_tensor=input_tensor)  # Ganti ResNet50 dengan EfficientNetB\n",
        "    base_model = VGG16(weights='imagenet', include_top=False, input_tensor=input_tensor)\n",
        "    x = base_model.output\n",
        "    x = GlobalAveragePooling2D()(x)\n",
        "    x = BatchNormalization()(x)\n",
        "    x = Dense(512, activation='relu', kernel_regularizer=tf.keras.regularizers.l2(0.01))(x)  # Tambahan lapisan\n",
        "    x = Dropout(0.5)(x)\n",
        "    x = Dense(256, activation='relu', kernel_regularizer=tf.keras.regularizers.l2(0.01))(x)\n",
        "    x = Dropout(0.5)(x)\n",
        "    x = Dense(128, activation='relu', kernel_regularizer=tf.keras.regularizers.l2(0.01))(x)\n",
        "    x = Dropout(0.5)(x)\n",
        "    predictions = Dense(len(encoder.classes_), activation='softmax')(x)\n",
        "\n",
        "    model = Model(inputs=base_model.input, outputs=predictions)\n",
        "\n",
        "    # Unfreeze the top layers of the model\n",
        "    for layer in base_model.layers[-50:]:\n",
        "        layer.trainable = True\n",
        "\n",
        "    # Compile model\n",
        "    model.compile(optimizer=tf.keras.optimizers.Adam(learning_rate=1e-4), loss='categorical_crossentropy', metrics=['accuracy'])\n",
        "    return model\n",
        "\n",
        "model = build_model()"
      ]
    },
    {
      "cell_type": "code",
      "execution_count": 21,
      "metadata": {
        "id": "T4xJ7D2bSf6F"
      },
      "outputs": [],
      "source": [
        "# Data augmentation\n",
        "train_datagen = ImageDataGenerator(\n",
        "    #rotation_range=40,\n",
        "    width_shift_range=0.3,\n",
        "    height_shift_range=0.3,\n",
        "    shear_range=0.5,\n",
        "    #zoom_range=0.5,\n",
        "    #horizontal_flip=True,\n",
        "    brightness_range=[0.8, 1.2],\n",
        "    #fill_mode='nearest'\n",
        ")"
      ]
    },
    {
      "cell_type": "code",
      "execution_count": 22,
      "metadata": {
        "id": "xAcGlN-0SlhF"
      },
      "outputs": [],
      "source": [
        "test_datagen = ImageDataGenerator()"
      ]
    },
    {
      "cell_type": "code",
      "execution_count": 23,
      "metadata": {
        "id": "0GbT6qBdSogc"
      },
      "outputs": [],
      "source": [
        "# Load and preprocess images for CNN\n",
        "def load_and_preprocess_images(path):\n",
        "    images = []\n",
        "    labels = []\n",
        "    for folder in os.listdir(path):\n",
        "        folder_path = os.path.join(path, folder)\n",
        "        if os.path.isdir(folder_path):\n",
        "            for file in os.listdir(folder_path):\n",
        "                file_path = os.path.join(folder_path, file)\n",
        "                image = cv2.imread(file_path)\n",
        "                if image is not None:\n",
        "                    image = preprocess_image(image)\n",
        "                    images.append(image)\n",
        "                    labels.append(folder)\n",
        "    return np.array(images), np.array(labels)\n"
      ]
    },
    {
      "cell_type": "code",
      "execution_count": 24,
      "metadata": {
        "id": "WiDv3UB1SpWF"
      },
      "outputs": [],
      "source": [
        "train_images, train_labels = load_and_preprocess_images(data_path)\n",
        "test_images, test_labels = load_and_preprocess_images(data_path)\n"
      ]
    },
    {
      "cell_type": "code",
      "execution_count": 25,
      "metadata": {
        "id": "w-O35jj_SrTj"
      },
      "outputs": [],
      "source": [
        "# Encode labels\n",
        "train_labels_encoded = encoder.fit_transform(train_labels)\n",
        "test_labels_encoded = encoder.transform(test_labels)\n",
        "\n",
        "train_labels_categorical = to_categorical(train_labels_encoded)\n",
        "test_labels_categorical = to_categorical(test_labels_encoded)\n",
        "\n",
        "# Callbacks\n",
        "reduce_lr = tf.keras.callbacks.ReduceLROnPlateau(monitor='val_loss', factor=0.2, patience=5, min_lr=1e-5)\n",
        "early_stopping = tf.keras.callbacks.EarlyStopping(monitor='val_loss', patience=5, restore_best_weights=True)\n"
      ]
    },
    {
      "cell_type": "code",
      "execution_count": 26,
      "metadata": {
        "id": "NOUQWru6SvQZ",
        "colab": {
          "base_uri": "https://localhost:8080/"
        },
        "outputId": "89669790-db58-4e8e-80c0-168e806a961c"
      },
      "outputs": [
        {
          "metadata": {
            "tags": null
          },
          "name": "stdout",
          "output_type": "stream",
          "text": [
            "Epoch 1/100\n"
          ]
        },
        {
          "metadata": {
            "tags": null
          },
          "name": "stderr",
          "output_type": "stream",
          "text": [
            "/usr/local/lib/python3.10/dist-packages/keras/src/trainers/data_adapters/py_dataset_adapter.py:122: UserWarning: Your `PyDataset` class should call `super().__init__(**kwargs)` in its constructor. `**kwargs` can include `workers`, `use_multiprocessing`, `max_queue_size`. Do not pass these arguments to `fit()`, as they will be ignored.\n",
            "  self._warn_if_super_not_called()\n"
          ]
        },
        {
          "output_type": "stream",
          "name": "stdout",
          "text": [
            "\u001b[1m48/48\u001b[0m \u001b[32m━━━━━━━━━━━━━━━━━━━━\u001b[0m\u001b[37m\u001b[0m \u001b[1m124s\u001b[0m 2s/step - accuracy: 0.2213 - loss: 12.2574 - val_accuracy: 0.1971 - val_loss: 13.4793 - learning_rate: 1.0000e-04\n",
            "Epoch 2/100\n",
            "\u001b[1m48/48\u001b[0m \u001b[32m━━━━━━━━━━━━━━━━━━━━\u001b[0m\u001b[37m\u001b[0m \u001b[1m31s\u001b[0m 585ms/step - accuracy: 0.2162 - loss: 11.6503 - val_accuracy: 0.2449 - val_loss: 11.6515 - learning_rate: 1.0000e-04\n",
            "Epoch 3/100\n",
            "\u001b[1m48/48\u001b[0m \u001b[32m━━━━━━━━━━━━━━━━━━━━\u001b[0m\u001b[37m\u001b[0m \u001b[1m31s\u001b[0m 587ms/step - accuracy: 0.2052 - loss: 11.2056 - val_accuracy: 0.1978 - val_loss: 11.7602 - learning_rate: 1.0000e-04\n",
            "Epoch 4/100\n",
            "\u001b[1m48/48\u001b[0m \u001b[32m━━━━━━━━━━━━━━━━━━━━\u001b[0m\u001b[37m\u001b[0m \u001b[1m31s\u001b[0m 584ms/step - accuracy: 0.2010 - loss: 10.8381 - val_accuracy: 0.1572 - val_loss: 10.7376 - learning_rate: 1.0000e-04\n",
            "Epoch 5/100\n",
            "\u001b[1m48/48\u001b[0m \u001b[32m━━━━━━━━━━━━━━━━━━━━\u001b[0m\u001b[37m\u001b[0m \u001b[1m31s\u001b[0m 585ms/step - accuracy: 0.2021 - loss: 10.4431 - val_accuracy: 0.2449 - val_loss: 10.6173 - learning_rate: 1.0000e-04\n",
            "Epoch 6/100\n",
            "\u001b[1m48/48\u001b[0m \u001b[32m━━━━━━━━━━━━━━━━━━━━\u001b[0m\u001b[37m\u001b[0m \u001b[1m31s\u001b[0m 585ms/step - accuracy: 0.1947 - loss: 10.0359 - val_accuracy: 0.1565 - val_loss: 9.9701 - learning_rate: 1.0000e-04\n",
            "Epoch 7/100\n",
            "\u001b[1m48/48\u001b[0m \u001b[32m━━━━━━━━━━━━━━━━━━━━\u001b[0m\u001b[37m\u001b[0m \u001b[1m31s\u001b[0m 585ms/step - accuracy: 0.2202 - loss: 9.6450 - val_accuracy: 0.2043 - val_loss: 9.4205 - learning_rate: 1.0000e-04\n",
            "Epoch 8/100\n",
            "\u001b[1m48/48\u001b[0m \u001b[32m━━━━━━━━━━━━━━━━━━━━\u001b[0m\u001b[37m\u001b[0m \u001b[1m31s\u001b[0m 586ms/step - accuracy: 0.1759 - loss: 9.2736 - val_accuracy: 0.1670 - val_loss: 8.9341 - learning_rate: 1.0000e-04\n",
            "Epoch 9/100\n",
            "\u001b[1m48/48\u001b[0m \u001b[32m━━━━━━━━━━━━━━━━━━━━\u001b[0m\u001b[37m\u001b[0m \u001b[1m31s\u001b[0m 586ms/step - accuracy: 0.1809 - loss: 8.8689 - val_accuracy: 0.1565 - val_loss: 8.5923 - learning_rate: 1.0000e-04\n",
            "Epoch 10/100\n",
            "\u001b[1m48/48\u001b[0m \u001b[32m━━━━━━━━━━━━━━━━━━━━\u001b[0m\u001b[37m\u001b[0m \u001b[1m31s\u001b[0m 585ms/step - accuracy: 0.1958 - loss: 8.5009 - val_accuracy: 0.2141 - val_loss: 8.2139 - learning_rate: 1.0000e-04\n",
            "Epoch 11/100\n",
            "\u001b[1m48/48\u001b[0m \u001b[32m━━━━━━━━━━━━━━━━━━━━\u001b[0m\u001b[37m\u001b[0m \u001b[1m31s\u001b[0m 585ms/step - accuracy: 0.2189 - loss: 8.1547 - val_accuracy: 0.2050 - val_loss: 7.8733 - learning_rate: 1.0000e-04\n",
            "Epoch 12/100\n",
            "\u001b[1m48/48\u001b[0m \u001b[32m━━━━━━━━━━━━━━━━━━━━\u001b[0m\u001b[37m\u001b[0m \u001b[1m31s\u001b[0m 586ms/step - accuracy: 0.1917 - loss: 7.8080 - val_accuracy: 0.2534 - val_loss: 7.5366 - learning_rate: 1.0000e-04\n",
            "Epoch 13/100\n",
            "\u001b[1m48/48\u001b[0m \u001b[32m━━━━━━━━━━━━━━━━━━━━\u001b[0m\u001b[37m\u001b[0m \u001b[1m31s\u001b[0m 585ms/step - accuracy: 0.2114 - loss: 7.4646 - val_accuracy: 0.2272 - val_loss: 7.2415 - learning_rate: 1.0000e-04\n",
            "Epoch 14/100\n",
            "\u001b[1m48/48\u001b[0m \u001b[32m━━━━━━━━━━━━━━━━━━━━\u001b[0m\u001b[37m\u001b[0m \u001b[1m31s\u001b[0m 585ms/step - accuracy: 0.1902 - loss: 7.1738 - val_accuracy: 0.1945 - val_loss: 6.9378 - learning_rate: 1.0000e-04\n",
            "Epoch 15/100\n",
            "\u001b[1m48/48\u001b[0m \u001b[32m━━━━━━━━━━━━━━━━━━━━\u001b[0m\u001b[37m\u001b[0m \u001b[1m31s\u001b[0m 586ms/step - accuracy: 0.2156 - loss: 6.8771 - val_accuracy: 0.1971 - val_loss: 6.6666 - learning_rate: 1.0000e-04\n",
            "Epoch 16/100\n",
            "\u001b[1m48/48\u001b[0m \u001b[32m━━━━━━━━━━━━━━━━━━━━\u001b[0m\u001b[37m\u001b[0m \u001b[1m31s\u001b[0m 586ms/step - accuracy: 0.2281 - loss: 6.5866 - val_accuracy: 0.2024 - val_loss: 6.3862 - learning_rate: 1.0000e-04\n",
            "Epoch 17/100\n",
            "\u001b[1m48/48\u001b[0m \u001b[32m━━━━━━━━━━━━━━━━━━━━\u001b[0m\u001b[37m\u001b[0m \u001b[1m31s\u001b[0m 586ms/step - accuracy: 0.2061 - loss: 6.3091 - val_accuracy: 0.2122 - val_loss: 6.1458 - learning_rate: 1.0000e-04\n",
            "Epoch 18/100\n",
            "\u001b[1m48/48\u001b[0m \u001b[32m━━━━━━━━━━━━━━━━━━━━\u001b[0m\u001b[37m\u001b[0m \u001b[1m31s\u001b[0m 586ms/step - accuracy: 0.2056 - loss: 6.0485 - val_accuracy: 0.2004 - val_loss: 5.8621 - learning_rate: 1.0000e-04\n",
            "Epoch 19/100\n",
            "\u001b[1m48/48\u001b[0m \u001b[32m━━━━━━━━━━━━━━━━━━━━\u001b[0m\u001b[37m\u001b[0m \u001b[1m31s\u001b[0m 586ms/step - accuracy: 0.2140 - loss: 5.8057 - val_accuracy: 0.1984 - val_loss: 5.6270 - learning_rate: 1.0000e-04\n",
            "Epoch 20/100\n",
            "\u001b[1m48/48\u001b[0m \u001b[32m━━━━━━━━━━━━━━━━━━━━\u001b[0m\u001b[37m\u001b[0m \u001b[1m31s\u001b[0m 586ms/step - accuracy: 0.2043 - loss: 5.5820 - val_accuracy: 0.2554 - val_loss: 5.3971 - learning_rate: 1.0000e-04\n",
            "Epoch 21/100\n",
            "\u001b[1m48/48\u001b[0m \u001b[32m━━━━━━━━━━━━━━━━━━━━\u001b[0m\u001b[37m\u001b[0m \u001b[1m41s\u001b[0m 589ms/step - accuracy: 0.1979 - loss: 5.3624 - val_accuracy: 0.2083 - val_loss: 5.1926 - learning_rate: 1.0000e-04\n",
            "Epoch 22/100\n",
            "\u001b[1m48/48\u001b[0m \u001b[32m━━━━━━━━━━━━━━━━━━━━\u001b[0m\u001b[37m\u001b[0m \u001b[1m31s\u001b[0m 587ms/step - accuracy: 0.2199 - loss: 5.1426 - val_accuracy: 0.1604 - val_loss: 4.9968 - learning_rate: 1.0000e-04\n",
            "Epoch 23/100\n",
            "\u001b[1m48/48\u001b[0m \u001b[32m━━━━━━━━━━━━━━━━━━━━\u001b[0m\u001b[37m\u001b[0m \u001b[1m31s\u001b[0m 583ms/step - accuracy: 0.2035 - loss: 4.9554 - val_accuracy: 0.1631 - val_loss: 4.8108 - learning_rate: 1.0000e-04\n",
            "Epoch 24/100\n",
            "\u001b[1m48/48\u001b[0m \u001b[32m━━━━━━━━━━━━━━━━━━━━\u001b[0m\u001b[37m\u001b[0m \u001b[1m31s\u001b[0m 588ms/step - accuracy: 0.2150 - loss: 4.7600 - val_accuracy: 0.2037 - val_loss: 4.6304 - learning_rate: 1.0000e-04\n",
            "Epoch 25/100\n",
            "\u001b[1m48/48\u001b[0m \u001b[32m━━━━━━━━━━━━━━━━━━━━\u001b[0m\u001b[37m\u001b[0m \u001b[1m31s\u001b[0m 585ms/step - accuracy: 0.2034 - loss: 4.5870 - val_accuracy: 0.1631 - val_loss: 4.4587 - learning_rate: 1.0000e-04\n",
            "Epoch 26/100\n",
            "\u001b[1m48/48\u001b[0m \u001b[32m━━━━━━━━━━━━━━━━━━━━\u001b[0m\u001b[37m\u001b[0m \u001b[1m31s\u001b[0m 587ms/step - accuracy: 0.2035 - loss: 4.4149 - val_accuracy: 0.1735 - val_loss: 4.2954 - learning_rate: 1.0000e-04\n",
            "Epoch 27/100\n",
            "\u001b[1m48/48\u001b[0m \u001b[32m━━━━━━━━━━━━━━━━━━━━\u001b[0m\u001b[37m\u001b[0m \u001b[1m31s\u001b[0m 587ms/step - accuracy: 0.2070 - loss: 4.2615 - val_accuracy: 0.2109 - val_loss: 4.1366 - learning_rate: 1.0000e-04\n",
            "Epoch 28/100\n",
            "\u001b[1m48/48\u001b[0m \u001b[32m━━━━━━━━━━━━━━━━━━━━\u001b[0m\u001b[37m\u001b[0m \u001b[1m31s\u001b[0m 586ms/step - accuracy: 0.2037 - loss: 4.1094 - val_accuracy: 0.1768 - val_loss: 3.9945 - learning_rate: 1.0000e-04\n",
            "Epoch 29/100\n",
            "\u001b[1m48/48\u001b[0m \u001b[32m━━━━━━━━━━━━━━━━━━━━\u001b[0m\u001b[37m\u001b[0m \u001b[1m31s\u001b[0m 587ms/step - accuracy: 0.2445 - loss: 3.9610 - val_accuracy: 0.1716 - val_loss: 3.8593 - learning_rate: 1.0000e-04\n",
            "Epoch 30/100\n",
            "\u001b[1m48/48\u001b[0m \u001b[32m━━━━━━━━━━━━━━━━━━━━\u001b[0m\u001b[37m\u001b[0m \u001b[1m31s\u001b[0m 587ms/step - accuracy: 0.2099 - loss: 3.8195 - val_accuracy: 0.1880 - val_loss: 3.7269 - learning_rate: 1.0000e-04\n",
            "Epoch 31/100\n",
            "\u001b[1m48/48\u001b[0m \u001b[32m━━━━━━━━━━━━━━━━━━━━\u001b[0m\u001b[37m\u001b[0m \u001b[1m31s\u001b[0m 587ms/step - accuracy: 0.2129 - loss: 3.6981 - val_accuracy: 0.1657 - val_loss: 3.6146 - learning_rate: 1.0000e-04\n",
            "Epoch 32/100\n",
            "\u001b[1m48/48\u001b[0m \u001b[32m━━━━━━━━━━━━━━━━━━━━\u001b[0m\u001b[37m\u001b[0m \u001b[1m31s\u001b[0m 587ms/step - accuracy: 0.2447 - loss: 3.5683 - val_accuracy: 0.1729 - val_loss: 3.4989 - learning_rate: 1.0000e-04\n",
            "Epoch 33/100\n",
            "\u001b[1m48/48\u001b[0m \u001b[32m━━━━━━━━━━━━━━━━━━━━\u001b[0m\u001b[37m\u001b[0m \u001b[1m31s\u001b[0m 586ms/step - accuracy: 0.2258 - loss: 3.4546 - val_accuracy: 0.1814 - val_loss: 3.3864 - learning_rate: 1.0000e-04\n",
            "Epoch 34/100\n",
            "\u001b[1m48/48\u001b[0m \u001b[32m━━━━━━━━━━━━━━━━━━━━\u001b[0m\u001b[37m\u001b[0m \u001b[1m31s\u001b[0m 587ms/step - accuracy: 0.2384 - loss: 3.3606 - val_accuracy: 0.1578 - val_loss: 3.2954 - learning_rate: 1.0000e-04\n",
            "Epoch 35/100\n",
            "\u001b[1m48/48\u001b[0m \u001b[32m━━━━━━━━━━━━━━━━━━━━\u001b[0m\u001b[37m\u001b[0m \u001b[1m31s\u001b[0m 588ms/step - accuracy: 0.2407 - loss: 3.2325 - val_accuracy: 0.2423 - val_loss: 3.1551 - learning_rate: 1.0000e-04\n",
            "Epoch 36/100\n",
            "\u001b[1m48/48\u001b[0m \u001b[32m━━━━━━━━━━━━━━━━━━━━\u001b[0m\u001b[37m\u001b[0m \u001b[1m31s\u001b[0m 587ms/step - accuracy: 0.2271 - loss: 3.1532 - val_accuracy: 0.2495 - val_loss: 3.0630 - learning_rate: 1.0000e-04\n",
            "Epoch 37/100\n",
            "\u001b[1m48/48\u001b[0m \u001b[32m━━━━━━━━━━━━━━━━━━━━\u001b[0m\u001b[37m\u001b[0m \u001b[1m31s\u001b[0m 588ms/step - accuracy: 0.2310 - loss: 3.0545 - val_accuracy: 0.1827 - val_loss: 2.9945 - learning_rate: 1.0000e-04\n",
            "Epoch 38/100\n",
            "\u001b[1m48/48\u001b[0m \u001b[32m━━━━━━━━━━━━━━━━━━━━\u001b[0m\u001b[37m\u001b[0m \u001b[1m31s\u001b[0m 586ms/step - accuracy: 0.2294 - loss: 2.9761 - val_accuracy: 0.2076 - val_loss: 2.9468 - learning_rate: 1.0000e-04\n",
            "Epoch 39/100\n",
            "\u001b[1m48/48\u001b[0m \u001b[32m━━━━━━━━━━━━━━━━━━━━\u001b[0m\u001b[37m\u001b[0m \u001b[1m31s\u001b[0m 587ms/step - accuracy: 0.2413 - loss: 2.8760 - val_accuracy: 0.1821 - val_loss: 2.8551 - learning_rate: 1.0000e-04\n",
            "Epoch 40/100\n",
            "\u001b[1m48/48\u001b[0m \u001b[32m━━━━━━━━━━━━━━━━━━━━\u001b[0m\u001b[37m\u001b[0m \u001b[1m31s\u001b[0m 587ms/step - accuracy: 0.2325 - loss: 2.8102 - val_accuracy: 0.2986 - val_loss: 2.7150 - learning_rate: 1.0000e-04\n",
            "Epoch 41/100\n",
            "\u001b[1m48/48\u001b[0m \u001b[32m━━━━━━━━━━━━━━━━━━━━\u001b[0m\u001b[37m\u001b[0m \u001b[1m31s\u001b[0m 586ms/step - accuracy: 0.2613 - loss: 2.7335 - val_accuracy: 0.1775 - val_loss: 2.7045 - learning_rate: 1.0000e-04\n",
            "Epoch 42/100\n",
            "\u001b[1m48/48\u001b[0m \u001b[32m━━━━━━━━━━━━━━━━━━━━\u001b[0m\u001b[37m\u001b[0m \u001b[1m31s\u001b[0m 587ms/step - accuracy: 0.2551 - loss: 2.6450 - val_accuracy: 0.2462 - val_loss: 2.7905 - learning_rate: 1.0000e-04\n",
            "Epoch 43/100\n",
            "\u001b[1m48/48\u001b[0m \u001b[32m━━━━━━━━━━━━━━━━━━━━\u001b[0m\u001b[37m\u001b[0m \u001b[1m31s\u001b[0m 586ms/step - accuracy: 0.2748 - loss: 2.5750 - val_accuracy: 0.2469 - val_loss: 3.1868 - learning_rate: 1.0000e-04\n",
            "Epoch 44/100\n",
            "\u001b[1m48/48\u001b[0m \u001b[32m━━━━━━━━━━━━━━━━━━━━\u001b[0m\u001b[37m\u001b[0m \u001b[1m31s\u001b[0m 589ms/step - accuracy: 0.2742 - loss: 2.4861 - val_accuracy: 0.2449 - val_loss: 3.0956 - learning_rate: 1.0000e-04\n",
            "Epoch 45/100\n",
            "\u001b[1m48/48\u001b[0m \u001b[32m━━━━━━━━━━━━━━━━━━━━\u001b[0m\u001b[37m\u001b[0m \u001b[1m31s\u001b[0m 587ms/step - accuracy: 0.3067 - loss: 2.3881 - val_accuracy: 0.2030 - val_loss: 5.8377 - learning_rate: 1.0000e-04\n",
            "Epoch 46/100\n",
            "\u001b[1m48/48\u001b[0m \u001b[32m━━━━━━━━━━━━━━━━━━━━\u001b[0m\u001b[37m\u001b[0m \u001b[1m31s\u001b[0m 587ms/step - accuracy: 0.3409 - loss: 2.2692 - val_accuracy: 0.3235 - val_loss: 2.3914 - learning_rate: 1.0000e-04\n",
            "Epoch 47/100\n",
            "\u001b[1m48/48\u001b[0m \u001b[32m━━━━━━━━━━━━━━━━━━━━\u001b[0m\u001b[37m\u001b[0m \u001b[1m31s\u001b[0m 586ms/step - accuracy: 0.3347 - loss: 2.2118 - val_accuracy: 0.2862 - val_loss: 2.4023 - learning_rate: 1.0000e-04\n",
            "Epoch 48/100\n",
            "\u001b[1m48/48\u001b[0m \u001b[32m━━━━━━━━━━━━━━━━━━━━\u001b[0m\u001b[37m\u001b[0m \u001b[1m31s\u001b[0m 586ms/step - accuracy: 0.3553 - loss: 2.1253 - val_accuracy: 0.2934 - val_loss: 3.1050 - learning_rate: 1.0000e-04\n",
            "Epoch 49/100\n",
            "\u001b[1m48/48\u001b[0m \u001b[32m━━━━━━━━━━━━━━━━━━━━\u001b[0m\u001b[37m\u001b[0m \u001b[1m31s\u001b[0m 586ms/step - accuracy: 0.3680 - loss: 2.0647 - val_accuracy: 0.2678 - val_loss: 2.5266 - learning_rate: 1.0000e-04\n",
            "Epoch 50/100\n",
            "\u001b[1m48/48\u001b[0m \u001b[32m━━━━━━━━━━━━━━━━━━━━\u001b[0m\u001b[37m\u001b[0m \u001b[1m31s\u001b[0m 586ms/step - accuracy: 0.4111 - loss: 1.9542 - val_accuracy: 0.3811 - val_loss: 1.9925 - learning_rate: 1.0000e-04\n",
            "Epoch 51/100\n",
            "\u001b[1m48/48\u001b[0m \u001b[32m━━━━━━━━━━━━━━━━━━━━\u001b[0m\u001b[37m\u001b[0m \u001b[1m31s\u001b[0m 584ms/step - accuracy: 0.4263 - loss: 1.9151 - val_accuracy: 0.2646 - val_loss: 2.6498 - learning_rate: 1.0000e-04\n",
            "Epoch 52/100\n",
            "\u001b[1m48/48\u001b[0m \u001b[32m━━━━━━━━━━━━━━━━━━━━\u001b[0m\u001b[37m\u001b[0m \u001b[1m31s\u001b[0m 585ms/step - accuracy: 0.4046 - loss: 1.8606 - val_accuracy: 0.2593 - val_loss: 3.5465 - learning_rate: 1.0000e-04\n",
            "Epoch 53/100\n",
            "\u001b[1m48/48\u001b[0m \u001b[32m━━━━━━━━━━━━━━━━━━━━\u001b[0m\u001b[37m\u001b[0m \u001b[1m31s\u001b[0m 587ms/step - accuracy: 0.4366 - loss: 1.7940 - val_accuracy: 0.4538 - val_loss: 1.7932 - learning_rate: 1.0000e-04\n",
            "Epoch 54/100\n",
            "\u001b[1m48/48\u001b[0m \u001b[32m━━━━━━━━━━━━━━━━━━━━\u001b[0m\u001b[37m\u001b[0m \u001b[1m31s\u001b[0m 585ms/step - accuracy: 0.4745 - loss: 1.6728 - val_accuracy: 0.4335 - val_loss: 1.8064 - learning_rate: 1.0000e-04\n",
            "Epoch 55/100\n",
            "\u001b[1m48/48\u001b[0m \u001b[32m━━━━━━━━━━━━━━━━━━━━\u001b[0m\u001b[37m\u001b[0m \u001b[1m31s\u001b[0m 585ms/step - accuracy: 0.4597 - loss: 1.6412 - val_accuracy: 0.4303 - val_loss: 1.8623 - learning_rate: 1.0000e-04\n",
            "Epoch 56/100\n",
            "\u001b[1m48/48\u001b[0m \u001b[32m━━━━━━━━━━━━━━━━━━━━\u001b[0m\u001b[37m\u001b[0m \u001b[1m31s\u001b[0m 584ms/step - accuracy: 0.4684 - loss: 1.6100 - val_accuracy: 0.3425 - val_loss: 2.0493 - learning_rate: 1.0000e-04\n",
            "Epoch 57/100\n",
            "\u001b[1m48/48\u001b[0m \u001b[32m━━━━━━━━━━━━━━━━━━━━\u001b[0m\u001b[37m\u001b[0m \u001b[1m31s\u001b[0m 587ms/step - accuracy: 0.4937 - loss: 1.5378 - val_accuracy: 0.3824 - val_loss: 1.7256 - learning_rate: 1.0000e-04\n",
            "Epoch 58/100\n",
            "\u001b[1m48/48\u001b[0m \u001b[32m━━━━━━━━━━━━━━━━━━━━\u001b[0m\u001b[37m\u001b[0m \u001b[1m31s\u001b[0m 585ms/step - accuracy: 0.5263 - loss: 1.4658 - val_accuracy: 0.4754 - val_loss: 1.5736 - learning_rate: 1.0000e-04\n",
            "Epoch 59/100\n",
            "\u001b[1m48/48\u001b[0m \u001b[32m━━━━━━━━━━━━━━━━━━━━\u001b[0m\u001b[37m\u001b[0m \u001b[1m31s\u001b[0m 586ms/step - accuracy: 0.5494 - loss: 1.3885 - val_accuracy: 0.5134 - val_loss: 1.4690 - learning_rate: 1.0000e-04\n",
            "Epoch 60/100\n",
            "\u001b[1m48/48\u001b[0m \u001b[32m━━━━━━━━━━━━━━━━━━━━\u001b[0m\u001b[37m\u001b[0m \u001b[1m31s\u001b[0m 584ms/step - accuracy: 0.5295 - loss: 1.3840 - val_accuracy: 0.4355 - val_loss: 1.5745 - learning_rate: 1.0000e-04\n",
            "Epoch 61/100\n",
            "\u001b[1m48/48\u001b[0m \u001b[32m━━━━━━━━━━━━━━━━━━━━\u001b[0m\u001b[37m\u001b[0m \u001b[1m31s\u001b[0m 586ms/step - accuracy: 0.5626 - loss: 1.2868 - val_accuracy: 0.4204 - val_loss: 1.8769 - learning_rate: 1.0000e-04\n",
            "Epoch 62/100\n",
            "\u001b[1m48/48\u001b[0m \u001b[32m━━━━━━━━━━━━━━━━━━━━\u001b[0m\u001b[37m\u001b[0m \u001b[1m31s\u001b[0m 584ms/step - accuracy: 0.5873 - loss: 1.2325 - val_accuracy: 0.4571 - val_loss: 1.8910 - learning_rate: 1.0000e-04\n",
            "Epoch 63/100\n",
            "\u001b[1m48/48\u001b[0m \u001b[32m━━━━━━━━━━━━━━━━━━━━\u001b[0m\u001b[37m\u001b[0m \u001b[1m31s\u001b[0m 584ms/step - accuracy: 0.5950 - loss: 1.1810 - val_accuracy: 0.4984 - val_loss: 1.5553 - learning_rate: 1.0000e-04\n",
            "Epoch 64/100\n",
            "\u001b[1m48/48\u001b[0m \u001b[32m━━━━━━━━━━━━━━━━━━━━\u001b[0m\u001b[37m\u001b[0m \u001b[1m31s\u001b[0m 586ms/step - accuracy: 0.6079 - loss: 1.1541 - val_accuracy: 0.6765 - val_loss: 0.9480 - learning_rate: 1.0000e-04\n",
            "Epoch 65/100\n",
            "\u001b[1m48/48\u001b[0m \u001b[32m━━━━━━━━━━━━━━━━━━━━\u001b[0m\u001b[37m\u001b[0m \u001b[1m31s\u001b[0m 584ms/step - accuracy: 0.6743 - loss: 1.0231 - val_accuracy: 0.4499 - val_loss: 1.7981 - learning_rate: 1.0000e-04\n",
            "Epoch 66/100\n",
            "\u001b[1m48/48\u001b[0m \u001b[32m━━━━━━━━━━━━━━━━━━━━\u001b[0m\u001b[37m\u001b[0m \u001b[1m31s\u001b[0m 584ms/step - accuracy: 0.6854 - loss: 1.0180 - val_accuracy: 0.4519 - val_loss: 1.7247 - learning_rate: 1.0000e-04\n",
            "Epoch 67/100\n",
            "\u001b[1m48/48\u001b[0m \u001b[32m━━━━━━━━━━━━━━━━━━━━\u001b[0m\u001b[37m\u001b[0m \u001b[1m31s\u001b[0m 584ms/step - accuracy: 0.7067 - loss: 0.9672 - val_accuracy: 0.5324 - val_loss: 1.3342 - learning_rate: 1.0000e-04\n",
            "Epoch 68/100\n",
            "\u001b[1m48/48\u001b[0m \u001b[32m━━━━━━━━━━━━━━━━━━━━\u001b[0m\u001b[37m\u001b[0m \u001b[1m31s\u001b[0m 585ms/step - accuracy: 0.7124 - loss: 0.9110 - val_accuracy: 0.7341 - val_loss: 0.7945 - learning_rate: 1.0000e-04\n",
            "Epoch 69/100\n",
            "\u001b[1m48/48\u001b[0m \u001b[32m━━━━━━━━━━━━━━━━━━━━\u001b[0m\u001b[37m\u001b[0m \u001b[1m31s\u001b[0m 585ms/step - accuracy: 0.6991 - loss: 0.9425 - val_accuracy: 0.6477 - val_loss: 1.1440 - learning_rate: 1.0000e-04\n",
            "Epoch 70/100\n",
            "\u001b[1m48/48\u001b[0m \u001b[32m━━━━━━━━━━━━━━━━━━━━\u001b[0m\u001b[37m\u001b[0m \u001b[1m31s\u001b[0m 585ms/step - accuracy: 0.7618 - loss: 0.8076 - val_accuracy: 0.8441 - val_loss: 0.6165 - learning_rate: 1.0000e-04\n",
            "Epoch 71/100\n",
            "\u001b[1m48/48\u001b[0m \u001b[32m━━━━━━━━━━━━━━━━━━━━\u001b[0m\u001b[37m\u001b[0m \u001b[1m31s\u001b[0m 584ms/step - accuracy: 0.7900 - loss: 0.7424 - val_accuracy: 0.7590 - val_loss: 0.8418 - learning_rate: 1.0000e-04\n",
            "Epoch 72/100\n",
            "\u001b[1m48/48\u001b[0m \u001b[32m━━━━━━━━━━━━━━━━━━━━\u001b[0m\u001b[37m\u001b[0m \u001b[1m31s\u001b[0m 585ms/step - accuracy: 0.7706 - loss: 0.7940 - val_accuracy: 0.7308 - val_loss: 0.8699 - learning_rate: 1.0000e-04\n",
            "Epoch 73/100\n",
            "\u001b[1m48/48\u001b[0m \u001b[32m━━━━━━━━━━━━━━━━━━━━\u001b[0m\u001b[37m\u001b[0m \u001b[1m31s\u001b[0m 584ms/step - accuracy: 0.8075 - loss: 0.6946 - val_accuracy: 0.4761 - val_loss: 1.6972 - learning_rate: 1.0000e-04\n",
            "Epoch 74/100\n",
            "\u001b[1m48/48\u001b[0m \u001b[32m━━━━━━━━━━━━━━━━━━━━\u001b[0m\u001b[37m\u001b[0m \u001b[1m31s\u001b[0m 583ms/step - accuracy: 0.7682 - loss: 0.7306 - val_accuracy: 0.5246 - val_loss: 1.9509 - learning_rate: 1.0000e-04\n",
            "Epoch 75/100\n",
            "\u001b[1m48/48\u001b[0m \u001b[32m━━━━━━━━━━━━━━━━━━━━\u001b[0m\u001b[37m\u001b[0m \u001b[1m31s\u001b[0m 585ms/step - accuracy: 0.8029 - loss: 0.7175 - val_accuracy: 0.8690 - val_loss: 0.5317 - learning_rate: 1.0000e-04\n",
            "Epoch 76/100\n",
            "\u001b[1m48/48\u001b[0m \u001b[32m━━━━━━━━━━━━━━━━━━━━\u001b[0m\u001b[37m\u001b[0m \u001b[1m31s\u001b[0m 583ms/step - accuracy: 0.8365 - loss: 0.6075 - val_accuracy: 0.7466 - val_loss: 0.7675 - learning_rate: 1.0000e-04\n",
            "Epoch 77/100\n",
            "\u001b[1m48/48\u001b[0m \u001b[32m━━━━━━━━━━━━━━━━━━━━\u001b[0m\u001b[37m\u001b[0m \u001b[1m31s\u001b[0m 583ms/step - accuracy: 0.8659 - loss: 0.5742 - val_accuracy: 0.8048 - val_loss: 0.6765 - learning_rate: 1.0000e-04\n",
            "Epoch 78/100\n",
            "\u001b[1m48/48\u001b[0m \u001b[32m━━━━━━━━━━━━━━━━━━━━\u001b[0m\u001b[37m\u001b[0m \u001b[1m31s\u001b[0m 583ms/step - accuracy: 0.8867 - loss: 0.5309 - val_accuracy: 0.9005 - val_loss: 0.4427 - learning_rate: 1.0000e-04\n",
            "Epoch 79/100\n",
            "\u001b[1m48/48\u001b[0m \u001b[32m━━━━━━━━━━━━━━━━━━━━\u001b[0m\u001b[37m\u001b[0m \u001b[1m31s\u001b[0m 584ms/step - accuracy: 0.8704 - loss: 0.5225 - val_accuracy: 0.5232 - val_loss: 1.9553 - learning_rate: 1.0000e-04\n",
            "Epoch 80/100\n",
            "\u001b[1m48/48\u001b[0m \u001b[32m━━━━━━━━━━━━━━━━━━━━\u001b[0m\u001b[37m\u001b[0m \u001b[1m31s\u001b[0m 583ms/step - accuracy: 0.8667 - loss: 0.5308 - val_accuracy: 0.9574 - val_loss: 0.3267 - learning_rate: 1.0000e-04\n",
            "Epoch 81/100\n",
            "\u001b[1m48/48\u001b[0m \u001b[32m━━━━━━━━━━━━━━━━━━━━\u001b[0m\u001b[37m\u001b[0m \u001b[1m31s\u001b[0m 582ms/step - accuracy: 0.9257 - loss: 0.4262 - val_accuracy: 0.9162 - val_loss: 0.4257 - learning_rate: 1.0000e-04\n",
            "Epoch 82/100\n",
            "\u001b[1m48/48\u001b[0m \u001b[32m━━━━━━━━━━━━━━━━━━━━\u001b[0m\u001b[37m\u001b[0m \u001b[1m31s\u001b[0m 583ms/step - accuracy: 0.9112 - loss: 0.4626 - val_accuracy: 0.8107 - val_loss: 0.7020 - learning_rate: 1.0000e-04\n",
            "Epoch 83/100\n",
            "\u001b[1m48/48\u001b[0m \u001b[32m━━━━━━━━━━━━━━━━━━━━\u001b[0m\u001b[37m\u001b[0m \u001b[1m31s\u001b[0m 582ms/step - accuracy: 0.9181 - loss: 0.4325 - val_accuracy: 0.8998 - val_loss: 0.4218 - learning_rate: 1.0000e-04\n",
            "Epoch 84/100\n",
            "\u001b[1m48/48\u001b[0m \u001b[32m━━━━━━━━━━━━━━━━━━━━\u001b[0m\u001b[37m\u001b[0m \u001b[1m31s\u001b[0m 582ms/step - accuracy: 0.9306 - loss: 0.4062 - val_accuracy: 0.9122 - val_loss: 0.4185 - learning_rate: 1.0000e-04\n",
            "Epoch 85/100\n",
            "\u001b[1m48/48\u001b[0m \u001b[32m━━━━━━━━━━━━━━━━━━━━\u001b[0m\u001b[37m\u001b[0m \u001b[1m31s\u001b[0m 583ms/step - accuracy: 0.9455 - loss: 0.3570 - val_accuracy: 0.9175 - val_loss: 0.4159 - learning_rate: 1.0000e-04\n"
          ]
        }
      ],
      "source": [
        "# Fit the model\n",
        "history = model.fit(\n",
        "    train_datagen.flow(train_images, train_labels_categorical, batch_size=BATCH_SIZE),\n",
        "    epochs=EPOCHS,\n",
        "    validation_data=test_datagen.flow(test_images, test_labels_categorical, batch_size=BATCH_SIZE),\n",
        "    callbacks=[reduce_lr, early_stopping],\n",
        "    class_weight=class_weight_dict\n",
        ")"
      ]
    },
    {
      "cell_type": "code",
      "execution_count": 27,
      "metadata": {
        "id": "TsTzr-xVSx5v",
        "colab": {
          "base_uri": "https://localhost:8080/",
          "height": 410
        },
        "outputId": "0f59b46a-8dcd-4427-c6f4-e5f69ee8c5b2"
      },
      "outputs": [
        {
          "output_type": "display_data",
          "data": {
            "text/plain": [
              "<Figure size 1200x400 with 2 Axes>"
            ],
            "image/png": "[encoded data removed]"
          },
          "metadata": {}
        }
      ],
      "source": [
        "# Plot accuracy and loss\n",
        "plt.figure(figsize=(12, 4))\n",
        "plt.subplot(1, 2, 1)\n",
        "plt.plot(history.history['accuracy'], label='Train')\n",
        "plt.plot(history.history['val_accuracy'], label='Validation')\n",
        "plt.title('Model accuracy')\n",
        "plt.ylabel('Accuracy')\n",
        "plt.xlabel('Epoch')\n",
        "plt.legend(loc='upper left')\n",
        "\n",
        "plt.subplot(1, 2, 2)\n",
        "plt.plot(history.history['loss'], label='Train')\n",
        "plt.plot(history.history['val_loss'], label='Validation')\n",
        "plt.title('Model loss')\n",
        "plt.ylabel('Loss')\n",
        "plt.xlabel('Epoch')\n",
        "plt.legend(loc='upper left')\n",
        "\n",
        "plt.show()\n"
      ]
    },
    {
      "cell_type": "code",
      "execution_count": 28,
      "metadata": {
        "id": "_amw5lQaS0Nz",
        "colab": {
          "base_uri": "https://localhost:8080/",
          "height": 950
        },
        "outputId": "0481c909-5b29-4ccf-d276-eeb07ae626ce"
      },
      "outputs": [
        {
          "output_type": "stream",
          "name": "stdout",
          "text": [
            "\u001b[1m48/48\u001b[0m \u001b[32m━━━━━━━━━━━━━━━━━━━━\u001b[0m\u001b[37m\u001b[0m \u001b[1m6s\u001b[0m 124ms/step\n",
            "              precision    recall  f1-score   support\n",
            "\n",
            "     Aitinyo       0.94      0.93      0.93       374\n",
            "     Ayamaru       0.94      0.93      0.94       311\n",
            "      Kokoda       0.99      1.00      1.00       302\n",
            "         Moi       1.00      0.95      0.97       301\n",
            "       Tehit       0.91      1.00      0.95       239\n",
            "\n",
            "    accuracy                           0.96      1527\n",
            "   macro avg       0.96      0.96      0.96      1527\n",
            "weighted avg       0.96      0.96      0.96      1527\n",
            "\n"
          ]
        },
        {
          "output_type": "display_data",
          "data": {
            "text/plain": [
              "<Figure size 1000x800 with 2 Axes>"
            ],
            "image/png": "[encoded data removed]"
          },
          "metadata": {}
        }
      ],
      "source": [
        "# Evaluate model\n",
        "predictions = model.predict(test_images)\n",
        "predicted_classes = np.argmax(predictions, axis=1)\n",
        "\n",
        "# Classification report and confusion matrix\n",
        "print(classification_report(test_labels_encoded, predicted_classes, target_names=encoder.classes_))\n",
        "cm = confusion_matrix(test_labels_encoded, predicted_classes)\n",
        "plt.figure(figsize=(10, 8))\n",
        "sns.heatmap(cm, annot=True, fmt='d', cmap='Blues', xticklabels=encoder.classes_, yticklabels=encoder.classes_)\n",
        "plt.ylabel('Actual')\n",
        "plt.xlabel('Predicted')\n",
        "plt.title('Confusion Matrix')\n",
        "plt.show()"
      ]
    }
  ],
  "metadata": {
    "colab": {
      "provenance": [],
      "gpuType": "T4",
      "machine_shape": "hm",
      "authorship_tag": "ABX9TyPhYhKyioQNEJE+o+wp4JVC",
      "include_colab_link": true
    },
    "kernelspec": {
      "display_name": "Python 3",
      "name": "python3"
    },
    "language_info": {
      "name": "python"
    },
    "accelerator": "GPU"
  },
  "nbformat": 4,
  "nbformat_minor": 0
}